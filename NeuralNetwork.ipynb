{
 "cells": [
  {
   "cell_type": "markdown",
   "metadata": {},
   "source": [
    "Here we will implement a Neural Network model to predict_____"
   ]
  },
  {
   "cell_type": "code",
   "execution_count": 335,
   "metadata": {},
   "outputs": [],
   "source": [
    "import pandas as pd"
   ]
  },
  {
   "cell_type": "code",
   "execution_count": 336,
   "metadata": {},
   "outputs": [
    {
     "data": {
      "text/plain": [
       "(1186, 37)"
      ]
     },
     "execution_count": 336,
     "metadata": {},
     "output_type": "execute_result"
    }
   ],
   "source": [
    "filepath = r\"C:\\Users\\User\\AppData\\Local\\Packages\\CanonicalGroupLimited.UbuntuonWindows_79rhkp1fndgsc\\LocalState\\rootfs\\home\\mitchel\\StarWarsSurvey-ClassificationAnalysis\\survey_numeric.csv\"\n",
    "alt_path = r\"C:\\Users\\User\\AppData\\Local\\Packages\\CanonicalGroupLimited.UbuntuonWindows_79rhkp1fndgsc\\LocalState\\rootfs\\home\\mitchel\\StarWarsSurvey-ClassificationAnalysis\\survey_data.csv\"\n",
    "\n",
    "data = pd.read_csv(filepath)\n",
    "data.head(15)\n",
    "data.shape"
   ]
  },
  {
   "cell_type": "code",
   "execution_count": 337,
   "metadata": {},
   "outputs": [],
   "source": [
    "#drop all records where respondent has not seen a star wars film\n",
    "data.drop(data[data[\"Seen a Star Wars film\"] == 0].index,inplace=True)\n",
    "\n",
    "#drop location column and \"Seen a star wars film\"\n",
    "data = data.drop([\"Location (Census Region)\"], axis=1)\n",
    "data = data.drop([\"Seen a Star Wars film\"], axis=1)"
   ]
  },
  {
   "cell_type": "markdown",
   "metadata": {},
   "source": [
    "Here we split the data on the given label\n",
    "This will split the data into features and labels. We remove the rows in which the label value is zero, for the labels that we'll be testing over (Fan of Star Wars, Star Trek Fan, Gender, Age, Household Income, and Education) the value of zero represents and Unknown or Null response, which cannot be accurately predicted."
   ]
  },
  {
   "cell_type": "code",
   "execution_count": 338,
   "metadata": {},
   "outputs": [
    {
     "name": "stdout",
     "output_type": "stream",
     "text": [
      "Fan of Star Wars\n",
      "Seen The Phantom Menace\n",
      "Seen Attack of the Clones\n",
      "Seen Revenge of the Sith\n",
      "Seen A New Hope\n",
      "Seen The Empire Strikes Back\n",
      "Seen Return of the Jedi\n",
      "Rank for The Phantom Menace\n",
      "Rank for Attack of the Clones\n",
      "Rank for Revenge of the Sith\n",
      "Rank for A New Hope\n",
      "Rank for The Empire Strikes Back\n",
      "Rank for Return of the Jedi\n",
      "View of Han Solo\n",
      "View of Luke Skywalker\n",
      "View of Princess Leia Organa\n",
      "View of Anakin Skywalker\n",
      "View of Obi Wan Kenobi\n",
      "View of Emperor Palpatine\n",
      "View of Darth Vader\n",
      "View of Lando Calrissian\n",
      "View of Boba Fett\n",
      "View of C-3P0\n",
      "View of R2 D2\n",
      "View of Jar Jar Binks\n",
      "View of Padme Amidala\n",
      "View of Yoda\n",
      "Which character shot first?\n",
      "Familiar with the Expanded Universe?\n",
      "Fan of the Expanded Universe?\n",
      "Star Trek Fan\n",
      "Gender\n",
      "Age\n",
      "Household Income\n",
      "Education\n"
     ]
    }
   ],
   "source": [
    "#print all column names\n",
    "for col in data.columns:\n",
    "    print(col)\n",
    "\n",
    "#this function splits the data by features and labels, given the label argument\n",
    "#it returns two objects: data_X and data_Y\n",
    "def splitData(label):\n",
    "    #make copy of data to keep original data unaffected\n",
    "    data_copy = data\n",
    "    \n",
    "    #drop null values\n",
    "    data_copy.drop(data_copy[data_copy[label] == 0].index, inplace=True)\n",
    "    \n",
    "    #split and return data\n",
    "    data_X = data_copy.loc[:,data_copy.columns != label]\n",
    "    data_Y = data_copy[label]\n",
    "    return data_X, data_Y"
   ]
  },
  {
   "cell_type": "code",
   "execution_count": 339,
   "metadata": {},
   "outputs": [],
   "source": [
    "from sklearn.neural_network import MLPClassifier\n",
    "from sklearn.model_selection import GridSearchCV\n",
    "from sklearn.pipeline import Pipeline\n",
    "from sklearn.preprocessing import StandardScaler\n",
    "from sklearn.decomposition import PCA\n",
    "\n",
    "#define function to create GridSearchCV object\n",
    "\n",
    "scaler = StandardScaler()\n",
    "MLPC = MLPClassifier(solver = 'lbfgs')\n",
    "\n",
    "pipe = Pipeline([(\"Scaler\",scaler),(\"MLPC\",MLPC)])\n",
    "\n",
    "#create list of hidden_layer sizes for param_grid\n",
    "hidden_layer_list = []\n",
    "for i in range(100,111, 2):\n",
    "    hidden_layer_list += [(i,)]\n",
    "\n",
    "    \n",
    "#parameter grid for different hyperparamters in gridsearchCV\n",
    "param_grid = {'MLPC__hidden_layer_sizes':hidden_layer_list,\n",
    "             'MLPC__activation':['logistic','tanh','relu']\n",
    "             }\n"
   ]
  },
  {
   "cell_type": "code",
   "execution_count": 340,
   "metadata": {},
   "outputs": [
    {
     "name": "stdout",
     "output_type": "stream",
     "text": [
      "Fan of Star Wars\n"
     ]
    },
    {
     "name": "stderr",
     "output_type": "stream",
     "text": [
      "C:\\Users\\User\\Anaconda3\\lib\\site-packages\\sklearn\\model_selection\\_search.py:814: DeprecationWarning: The default of the `iid` parameter will change from True to False in version 0.22 and will be removed in 0.24. This will change numeric results when test-set sizes are unequal.\n",
      "  DeprecationWarning)\n"
     ]
    },
    {
     "name": "stdout",
     "output_type": "stream",
     "text": [
      "Average Accuracy: 80.37%\n",
      "\n",
      "{'MLPC__activation': 'tanh', 'MLPC__hidden_layer_sizes': (106,)}\n"
     ]
    }
   ],
   "source": [
    "from sklearn.model_selection import cross_val_score\n",
    "from sklearn.model_selection import cross_val_predict\n",
    "from sklearn.metrics import confusion_matrix\n",
    "\n",
    "labels = ['Fan of Star Wars']\n",
    "\n",
    "MLPSearch= GridSearchCV(pipe,\n",
    "                  param_grid,\n",
    "                  scoring = 'accuracy',\n",
    "                  cv=5)\n",
    "\n",
    "print(label)\n",
    "#display accuracy and confusion matrix for the GridSearchCV\n",
    "data_X, data_Y = splitData(label)\n",
    "\n",
    "acc = cross_val_score(MLPSearch, data_X, data_Y, cv=5)\n",
    "print(\"Average Accuracy: {:.2f}%\\n\".format(acc.mean()*100))\n",
    "\n",
    "MLPSearch.fit(data_X,data_Y)\n",
    "print(MLPSearch.best_params_)\n",
    "\n"
   ]
  },
  {
   "cell_type": "code",
   "execution_count": 347,
   "metadata": {
    "scrolled": true
   },
   "outputs": [
    {
     "name": "stdout",
     "output_type": "stream",
     "text": [
      "[1 1]\n",
      "[50.562058208264816, 44.72362162780554, 43.62877518340866, 46.11857313531044, 50.14270090021925, 47.58138030538523, 42.60847662422869, 37.313626685821816, 49.91936864529786, 40.74035261513271, 38.16239733029236, 39.636170224474, 38.86862282669871, 47.52425815001732, 52.17535691897222, 46.1198093790592, 51.376813784762476, 43.39572992291579, 54.85937452927196, 45.54472747063712, 46.6288376907021, 45.701958874319146, 37.65999945627548, 47.055389303129914, 45.19983801860467, 52.207774650612414, 44.9780616009885, 43.219343959890736, 46.7732861504657, 53.84073748212769, 45.44753320529329, 51.80848877305247, 47.766132746701835, 41.5104708137502]\n"
     ]
    },
    {
     "data": {
      "text/plain": [
       "[44.72362162780554,\n",
       " 43.62877518340866,\n",
       " 42.60847662422869,\n",
       " 37.313626685821816,\n",
       " 40.74035261513271,\n",
       " 38.16239733029236,\n",
       " 39.636170224474,\n",
       " 38.86862282669871,\n",
       " 43.39572992291579,\n",
       " 45.54472747063712,\n",
       " 45.701958874319146,\n",
       " 37.65999945627548,\n",
       " 45.19983801860467,\n",
       " 44.9780616009885,\n",
       " 43.219343959890736,\n",
       " 45.44753320529329,\n",
       " 41.5104708137502]"
      ]
     },
     "execution_count": 347,
     "metadata": {},
     "output_type": "execute_result"
    }
   ],
   "source": [
    "#sample record\n",
    "record = [[1,1,1,1,1,1,5,6,4,2,3,1,3,4,5,5,4,3,2,0,3,4,4,1,5,4,0,1,1,-1,1,1,5,3],\n",
    "         [1,1,1,1,1,1,5,6,4,2,3,1,5,4,4,3,4,1,4,3,0,5,5,1,4,5,0,-1,0,0,-1,1,4,3]]\n",
    "\n",
    "print(MLPSearch.predict(record))\n",
    "weights = MLPSearch.best_estimator_.steps[1][1].coefs_\n",
    "\n",
    "\n",
    "sum_of_weights = []\n",
    "for node in weights[0]:\n",
    "    node_sum = 0\n",
    "    for weight in node:\n",
    "        node_sum += abs(weight)\n",
    "    sum_of_weights.append(node_sum)\n",
    "    \n",
    "    \n",
    "print(sum_of_weights)\n",
    "avg = sum(sum_of_weights)/len(sum_of_weights)\n",
    "[weight for weight in sum_of_weights if weight < avg]\n"
   ]
  },
  {
   "cell_type": "code",
   "execution_count": null,
   "metadata": {},
   "outputs": [],
   "source": []
  }
 ],
 "metadata": {
  "kernelspec": {
   "display_name": "Python 3",
   "language": "python",
   "name": "python3"
  },
  "language_info": {
   "codemirror_mode": {
    "name": "ipython",
    "version": 3
   },
   "file_extension": ".py",
   "mimetype": "text/x-python",
   "name": "python",
   "nbconvert_exporter": "python",
   "pygments_lexer": "ipython3",
   "version": "3.7.4"
  }
 },
 "nbformat": 4,
 "nbformat_minor": 2
}
